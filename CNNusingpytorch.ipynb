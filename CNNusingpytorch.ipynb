{
  "nbformat": 4,
  "nbformat_minor": 0,
  "metadata": {
    "colab": {
      "provenance": [],
      "authorship_tag": "ABX9TyNRjSnVE7j1ajWj5rnoB9PN",
      "include_colab_link": true
    },
    "kernelspec": {
      "name": "python3",
      "display_name": "Python 3"
    },
    "language_info": {
      "name": "python"
    }
  },
  "cells": [
    {
      "cell_type": "markdown",
      "metadata": {
        "id": "view-in-github",
        "colab_type": "text"
      },
      "source": [
        "<a href=\"https://colab.research.google.com/github/Neeshi14/Create-CNN-model/blob/main/CNNusingpytorch.ipynb\" target=\"_parent\"><img src=\"https://colab.research.google.com/assets/colab-badge.svg\" alt=\"Open In Colab\"/></a>"
      ]
    },
    {
      "cell_type": "code",
      "execution_count": 20,
      "metadata": {
        "id": "AMQUS3j3rmoU"
      },
      "outputs": [],
      "source": [
        "import torch\n",
        "from torchvision import datasets, transforms"
      ]
    },
    {
      "cell_type": "code",
      "source": [
        "transform = transforms.Compose([transforms.ToTensor(),\n",
        "                                transforms.Normalize((0.1307,), (0.3081,))])"
      ],
      "metadata": {
        "id": "lcpJdg9Iv64Y"
      },
      "execution_count": 21,
      "outputs": []
    },
    {
      "cell_type": "code",
      "source": [
        "train_dataset = datasets.MNIST('../data', train=True, download=True,\n",
        "                              transform=transform)"
      ],
      "metadata": {
        "id": "NJfffbUwwHFl"
      },
      "execution_count": 22,
      "outputs": []
    },
    {
      "cell_type": "code",
      "source": [
        "train_loader = torch.utils.data.DataLoader(train_dataset, batch_size=164, shuffle=True)"
      ],
      "metadata": {
        "id": "mn2yn7e1zaxb"
      },
      "execution_count": 23,
      "outputs": []
    },
    {
      "cell_type": "code",
      "source": [
        "test_dataset = datasets.MNIST('../data',train=False, transform=transform)"
      ],
      "metadata": {
        "id": "6g92-dhuz4zh"
      },
      "execution_count": 24,
      "outputs": []
    },
    {
      "cell_type": "code",
      "source": [
        "test_loader = torch.utils.data.DataLoader(test_dataset,batch_size=1000,shuffle=False)"
      ],
      "metadata": {
        "id": "ML0vAIVu0JCc"
      },
      "execution_count": 25,
      "outputs": []
    },
    {
      "cell_type": "code",
      "source": [
        "\n",
        "for X, Y in train_loader:\n",
        "    print(\"TRAIN_LOADER SHAPE\")\n",
        "    print(f\"Shape of X [N, C, H, W]: {X.shape}\")\n",
        "    print(f\"Shape of y: {Y.shape} {Y.dtype}\")\n",
        "    break\n",
        "for X, Y in test_loader:\n",
        "    print(\"TEST_LOADER SHAPE\")\n",
        "    print(f\"Shape of X [N, C, H, W]: {X.shape}\")\n",
        "    print(f\"Shape of y: {Y.shape} {Y.dtype}\")\n",
        "    break"
      ],
      "metadata": {
        "colab": {
          "base_uri": "https://localhost:8080/"
        },
        "id": "ipCDoLSe0gxI",
        "outputId": "dc17fc35-68fc-4382-b65d-93be1e849082"
      },
      "execution_count": 26,
      "outputs": [
        {
          "output_type": "stream",
          "name": "stdout",
          "text": [
            "TRAIN_LOADER SHAPE\n",
            "Shape of X [N, C, H, W]: torch.Size([164, 1, 28, 28])\n",
            "Shape of y: torch.Size([164]) torch.int64\n",
            "TEST_LOADER SHAPE\n",
            "Shape of X [N, C, H, W]: torch.Size([1000, 1, 28, 28])\n",
            "Shape of y: torch.Size([1000]) torch.int64\n"
          ]
        }
      ]
    },
    {
      "cell_type": "markdown",
      "source": [
        "# **Implement the CNN model**"
      ],
      "metadata": {
        "id": "zlen-XcQ2Psk"
      }
    },
    {
      "cell_type": "code",
      "source": [
        "import torch.nn as nn  # for building neural networks\n",
        "import torch.nn.functional as F # for activation function"
      ],
      "metadata": {
        "id": "Rhs4qpqm1m58"
      },
      "execution_count": 31,
      "outputs": []
    },
    {
      "cell_type": "code",
      "source": [
        "class Net(nn.Module):\n",
        "  def __init__(self):\n",
        "     super(Net,self).__init__()\n",
        "     self.conv1=nn.Conv2d(1,32,3,1)#conv2d(input channel,output channel,kernel size,stride)\n",
        "     self.conv2=nn.Conv2d(32,64,3,1)\n",
        "     self.dropout1=nn.Dropout2d(0.25)\n",
        "     self.dropout2=nn.Dropout2d(0.5)\n",
        "     self.fc1=nn.Linear(9216,128)# fully connected layer,9216->input feature,128->output feature\n",
        "     self.fc2=nn.Linear(128,10)\n",
        "\n",
        "  def forward(self,x):\n",
        "    x=self.conv1(x)\n",
        "    x=F.relu(x)\n",
        "    x=self.conv2(x)\n",
        "    x=F.max_pool2d(x,kernel_size=2)\n",
        "    x= self.dropout1(x)\n",
        "    x=torch.flatten(x,1)\n",
        "    x=self.fc1(x)\n",
        "    x=F.relu(x)\n",
        "    x=self.dropout2(x)\n",
        "    x=self.fc2(x)\n",
        "    output =F.log_softmax(x,dim=1)\n",
        "    return output\n"
      ],
      "metadata": {
        "id": "uwAnhkxq3UXf"
      },
      "execution_count": 37,
      "outputs": []
    },
    {
      "cell_type": "code",
      "source": [
        "import torch.optim as optim\n",
        "\n",
        "model = Net()  # Create an instance of your CNN model\n",
        "optimizer = optim.Adam(model.parameters(), lr=0.001)   #Parameters()->learnable parameter(likes:Weights and biases, learning rate=0.001)\n",
        "criterion = nn.NLLLoss()  # Choose a loss function (e.g., Negative Log Likelihood)"
      ],
      "metadata": {
        "id": "FqO3gXfFBGIo"
      },
      "execution_count": 38,
      "outputs": []
    },
    {
      "cell_type": "code",
      "source": [
        "epochs = 3  # Number of training epochs\n",
        "\n",
        "for epoch in range(epochs):\n",
        "    for batch_idx, (data, target) in enumerate(train_loader):\n",
        "        optimizer.zero_grad()  # Reset gradients\n",
        "        output = model(data)  # Forward pass\n",
        "        loss = criterion(output, target)  # Calculate loss\n",
        "        loss.backward()  # Backpropagate gradients\n",
        "        optimizer.step()  # Update model parameters"
      ],
      "metadata": {
        "colab": {
          "base_uri": "https://localhost:8080/"
        },
        "id": "53BM-mfKCZJT",
        "outputId": "6ebcb7e2-cd87-4d7a-b49a-ce021b530e6a"
      },
      "execution_count": 39,
      "outputs": [
        {
          "output_type": "stream",
          "name": "stderr",
          "text": [
            "/usr/local/lib/python3.11/dist-packages/torch/nn/functional.py:1538: UserWarning: dropout2d: Received a 2-D input to dropout2d, which is deprecated and will result in an error in a future release. To retain the behavior and silence this warning, please use dropout instead. Note that dropout2d exists to provide channel-wise dropout on inputs with 2 spatial dimensions, a channel dimension, and an optional batch dimension (i.e. 3D or 4D inputs).\n",
            "  warnings.warn(warn_msg)\n"
          ]
        }
      ]
    },
    {
      "cell_type": "code",
      "source": [
        "correct = 0\n",
        "total = 0\n",
        "\n",
        "with torch.no_grad():  # Disable gradient calculation during evaluation\n",
        "    for data, target in test_loader:\n",
        "        output = model(data)\n",
        "        _, predicted = torch.max(output.data, 1)\n",
        "        total += target.size(0)\n",
        "        correct += (predicted == target).sum().item()\n",
        "\n",
        "accuracy = 100 * correct / total\n",
        "print(f'Accuracy: {accuracy:.2f}%')"
      ],
      "metadata": {
        "colab": {
          "base_uri": "https://localhost:8080/"
        },
        "id": "xwJQFko2D3ZQ",
        "outputId": "b720115e-1a00-4134-f1a9-868153c6ac72"
      },
      "execution_count": 40,
      "outputs": [
        {
          "output_type": "stream",
          "name": "stdout",
          "text": [
            "Accuracy: 97.60%\n"
          ]
        }
      ]
    },
    {
      "cell_type": "code",
      "source": [
        "import matplotlib.pyplot as plt\n",
        "import numpy as np\n",
        "\n",
        "# Get a single image from the test loader\n",
        "dataiter = iter(test_loader)\n",
        "images, labels = next(dataiter)\n",
        "image = images[0]  # Get the first image\n",
        "\n",
        "# Make a prediction\n",
        "with torch.no_grad():\n",
        "    output = model(image.unsqueeze(0))  # Add a batch dimension\n",
        "    _, predicted = torch.max(output.data, 1)\n",
        "\n",
        "# Display the image and prediction\n",
        "plt.imshow(image.squeeze().numpy(), cmap='gray')\n",
        "plt.title(f'Prediction: {predicted.item()}')\n",
        "plt.show()"
      ],
      "metadata": {
        "colab": {
          "base_uri": "https://localhost:8080/",
          "height": 452
        },
        "id": "ff2Wy4xnGHHt",
        "outputId": "351b7bc1-fcf0-45d4-94ce-4489648551d5"
      },
      "execution_count": 41,
      "outputs": [
        {
          "output_type": "display_data",
          "data": {
            "text/plain": [
              "<Figure size 640x480 with 1 Axes>"
            ],
            "image/png": "[encoded data removed]"
          },
          "metadata": {}
        }
      ]
    },
    {
      "cell_type": "code",
      "source": [
        "# Get a batch of images from the test loader\n",
        "images, labels = next(iter(test_loader))\n",
        "\n",
        "# Make predictions\n",
        "with torch.no_grad():\n",
        "    outputs = model(images)\n",
        "    _, predicted = torch.max(outputs.data, 1)\n",
        "\n",
        "# Display some images and their predictions\n",
        "fig, axes = plt.subplots(nrows=4, ncols=4, figsize=(8, 8))\n",
        "for i, ax in enumerate(axes.flat):\n",
        "    ax.imshow(images[i].squeeze().numpy(), cmap='gray')\n",
        "    ax.set_title(f'Prediction: {predicted[i].item()}')\n",
        "    ax.axis('off')\n",
        "plt.show()"
      ],
      "metadata": {
        "colab": {
          "base_uri": "https://localhost:8080/",
          "height": 675
        },
        "id": "yNjM6yIqGgW7",
        "outputId": "235fe72b-f9d9-4a94-a978-8fe19984f421"
      },
      "execution_count": 42,
      "outputs": [
        {
          "output_type": "display_data",
          "data": {
            "text/plain": [
              "<Figure size 800x800 with 16 Axes>"
            ],
            "image/png": "[encoded data removed]"
          },
          "metadata": {}
        }
      ]
    },
    {
      "cell_type": "code",
      "source": [
        "from sklearn.metrics import confusion_matrix\n",
        "\n",
        "# Get predictions for the entire test set\n",
        "all_predictions = []\n",
        "all_labels = []\n",
        "with torch.no_grad():\n",
        "    for data, target in test_loader:\n",
        "        outputs = model(data)\n",
        "        _, predicted = torch.max(outputs.data, 1)\n",
        "        all_predictions.extend(predicted.cpu().numpy())\n",
        "        all_labels.extend(target.cpu().numpy())\n",
        "\n",
        "# Calculate and display the confusion matrix\n",
        "cm = confusion_matrix(all_labels, all_predictions)\n",
        "print(cm)\n",
        "\n",
        "# You can also visualize the confusion matrix using libraries like seaborn\n",
        "# import seaborn as sns\n",
        "# sns.heatmap(cm, annot=True, fmt='d')\n",
        "# plt.show()"
      ],
      "metadata": {
        "colab": {
          "base_uri": "https://localhost:8080/"
        },
        "id": "OmKw2kYrGj3O",
        "outputId": "affead2c-cccb-4c5d-96a2-5bf9ab1aaa27"
      },
      "execution_count": 43,
      "outputs": [
        {
          "output_type": "stream",
          "name": "stderr",
          "text": [
            "/usr/local/lib/python3.11/dist-packages/torch/nn/functional.py:1538: UserWarning: dropout2d: Received a 2-D input to dropout2d, which is deprecated and will result in an error in a future release. To retain the behavior and silence this warning, please use dropout instead. Note that dropout2d exists to provide channel-wise dropout on inputs with 2 spatial dimensions, a channel dimension, and an optional batch dimension (i.e. 3D or 4D inputs).\n",
            "  warnings.warn(warn_msg)\n"
          ]
        },
        {
          "output_type": "stream",
          "name": "stdout",
          "text": [
            "[[ 970    0    2    1    1    2    0    2    2    0]\n",
            " [   0 1125    3    1    1    0    2    2    1    0]\n",
            " [   4    4 1010    6    0    0    0    6    1    1]\n",
            " [   0    0    3  998    0    4    0    4    1    0]\n",
            " [   0    0    2    0  971    0    0    1    1    7]\n",
            " [   2    0    0    8    0  875    2    1    0    4]\n",
            " [   4    3    2    0    4   12  930    0    3    0]\n",
            " [   1    1   14    2    2    0    0 1004    1    3]\n",
            " [   3    1    7   12    1    8    5    7  916   14]\n",
            " [   2    1    1    4   13    3    1    6    2  976]]\n"
          ]
        }
      ]
    },
    {
      "cell_type": "code",
      "source": [],
      "metadata": {
        "id": "_kcnFAD8Gnsx"
      },
      "execution_count": null,
      "outputs": []
    }
  ]
}